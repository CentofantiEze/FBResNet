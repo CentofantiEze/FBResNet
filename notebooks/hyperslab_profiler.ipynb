{
 "cells": [
  {
   "cell_type": "code",
   "execution_count": 2,
   "metadata": {},
   "outputs": [],
   "source": [
    "# Import Packages\n",
    "import numpy as np\n",
    "from torch.autograd import Variable\n",
    "from tqdm import tqdm\n",
    "import torch\n",
    "import matplotlib.pyplot as plt\n",
    "import matplotlib as mpl\n",
    "import seaborn as sns\n",
    "%matplotlib inline"
   ]
  },
  {
   "cell_type": "code",
   "execution_count": 3,
   "metadata": {},
   "outputs": [],
   "source": [
    "import os\n",
    "os.environ[\"KMP_DUPLICATE_LIB_OK\"] = \"True\""
   ]
  },
  {
   "cell_type": "code",
   "execution_count": 4,
   "metadata": {},
   "outputs": [],
   "source": [
    "# Import local model files\n",
    "from FBRN.myfunc import Physics\n",
    "from FBRN.myfunc import MyMatmul\n",
    "from FBRN.main import FBRestNet\n",
    "from FBRN.model import MyModel\n",
    "from FBRN.myfunc import Export_hyper"
   ]
  },
  {
   "cell_type": "code",
   "execution_count": 5,
   "metadata": {},
   "outputs": [],
   "source": [
    "import cProfile"
   ]
  },
  {
   "cell_type": "markdown",
   "metadata": {},
   "source": [
    "# Define the four model variations"
   ]
  },
  {
   "cell_type": "code",
   "execution_count": 6,
   "metadata": {},
   "outputs": [],
   "source": [
    "model_1_slab = FBRestNet(\n",
    "    model_id = 'model_slab_profiler_',\n",
    "    dataset_folder = '../Datasets/',\n",
    "    model_folder = '../outputs/models/',\n",
    "    opt_hist_folder = '../outputs/opt_hist/',\n",
    "    experimentation=Physics(2000,50,1,1),\n",
    "    nb_blocks=20,\n",
    "    im_set=\"Set1\",\n",
    "    noise = 0.05,        \n",
    "    constraint = 'slab',  \n",
    "    train_size=400,\n",
    "    val_size=200,\n",
    "    batch_size=128,\n",
    "    lr=0.1, \n",
    "    nb_epochs=1,\n",
    "    freq_val=1,\n",
    "    loss_elt=True,\n",
    "    save_signals=False,\n",
    "    save_outputs=True,\n",
    "    save_model=True,\n",
    "    save_hist=True\n",
    "    )"
   ]
  },
  {
   "cell_type": "code",
   "execution_count": 7,
   "metadata": {},
   "outputs": [],
   "source": [
    "train_set_1_slab, val_set_1_slab = model_1_slab.CreateDataSet()"
   ]
  },
  {
   "cell_type": "code",
   "execution_count": 8,
   "metadata": {},
   "outputs": [
    {
     "name": "stdout",
     "output_type": "stream",
     "text": [
      "epoch :  0  -----  training :  0.0322    validation :  0.0343\n",
      "    ----- initial error :  0.131168\n",
      "--------------------------------------------\n",
      "Training is done.\n",
      "--------------------------------------------\n",
      "Final Lipschitz constant =  0.0004261270079746793\n"
     ]
    }
   ],
   "source": [
    "model_1_slab.train(train_set_1_slab, val_set_1_slab)"
   ]
  },
  {
   "cell_type": "code",
   "execution_count": 9,
   "metadata": {},
   "outputs": [],
   "source": [
    "# cProfile.run(\"model_1_slab.train(train_set_1_slab, val_set_1_slab)\")"
   ]
  },
  {
   "cell_type": "code",
   "execution_count": null,
   "metadata": {},
   "outputs": [],
   "source": []
  }
 ],
 "metadata": {
  "kernelspec": {
   "display_name": "FBRest_Net",
   "language": "python",
   "name": "python3"
  },
  "language_info": {
   "codemirror_mode": {
    "name": "ipython",
    "version": 3
   },
   "file_extension": ".py",
   "mimetype": "text/x-python",
   "name": "python",
   "nbconvert_exporter": "python",
   "pygments_lexer": "ipython3",
   "version": "3.9.13"
  },
  "orig_nbformat": 4,
  "vscode": {
   "interpreter": {
    "hash": "71ad4f79e88c68aae645e74c994adbbccfa4c045ade2cec8bfd69991fe147d4c"
   }
  }
 },
 "nbformat": 4,
 "nbformat_minor": 2
}
