{
 "cells": [
  {
   "cell_type": "markdown",
   "metadata": {},
   "source": [
    "# FBRESNET - one example"
   ]
  },
  {
   "cell_type": "code",
   "execution_count": 1,
   "metadata": {},
   "outputs": [],
   "source": [
    "# importation\n",
    "import numpy as np\n",
    "from torch.autograd import Variable\n",
    "import torch\n",
    "import matplotlib.pyplot as plt\n",
    "%matplotlib inline\n",
    "# local\n",
    "from FBRN.myfunc import Physics\n",
    "from FBRN.myfunc import MyMatmul\n",
    "from FBRN.main import FBRestNet\n",
    "from FBRN.model import MyModel\n",
    "from FBRN.myfunc import Export_hyper"
   ]
  },
  {
   "cell_type": "markdown",
   "metadata": {},
   "source": [
    "### Initialisation\n",
    "The condition are as follows:\n",
    "$a=1$ ,\n",
    "$p=1$ ,\n",
    "the constraint is $0 <x_i <1$ ."
   ]
  },
  {
   "cell_type": "code",
   "execution_count": 13,
   "metadata": {},
   "outputs": [],
   "source": [
    "exp1 = FBRestNet(experimentation=Physics(2000,50,1,1), nb_blocks=20, noise = 0.05,\\\n",
    "                 folder = './', im_set=\"Set1\",batch_size=[100,1],\\\n",
    "                 lr=1e-3, nb_epochs=[20,1])"
   ]
  },
  {
   "cell_type": "markdown",
   "metadata": {},
   "source": [
    "### Dataset\n",
    "Here, the dataset is of size 300, which is split in 200 trainig datas and 100 validation datas."
   ]
  },
  {
   "cell_type": "code",
   "execution_count": 14,
   "metadata": {},
   "outputs": [],
   "source": [
    "train_set, val_set = exp1.CreateDataSet()"
   ]
  },
  {
   "cell_type": "markdown",
   "metadata": {},
   "source": [
    "### Trainings\n",
    "The training is done over 20 epochs, learning rate is $10^{-3}$.\n",
    "The Lipschitz constant is plot duroing training.\n",
    "Here the parameter can be saved after training in file 'Trainings', and uploaded later."
   ]
  },
  {
   "cell_type": "code",
   "execution_count": null,
   "metadata": {},
   "outputs": [
    {
     "name": "stdout",
     "output_type": "stream",
     "text": [
      "epoch :  0  -----  validation :  0.000219796\n",
      "    ----- initial error :  0.000867951\n",
      "epoch :  1  -----  validation :  0.000214453\n",
      "    ----- initial error :  0.000867951\n",
      "epoch :  2  -----  validation :  0.000209288\n",
      "    ----- initial error :  0.000867951\n"
     ]
    }
   ],
   "source": [
    "exp1.train(train_set,val_set,save_model=False)"
   ]
  },
  {
   "cell_type": "markdown",
   "metadata": {},
   "source": [
    "### Testing\n",
    "We computre the averaged error over the testing set, and compute one example, on the left the signal are projected on the eigenbasis of operator $T_a^TT_a$, on the right on the finite element basis."
   ]
  },
  {
   "cell_type": "code",
   "execution_count": null,
   "metadata": {},
   "outputs": [],
   "source": [
    "average_error = exp1.test(val_set)"
   ]
  },
  {
   "cell_type": "markdown",
   "metadata": {},
   "source": [
    "### Test on a Gaussian function"
   ]
  },
  {
   "cell_type": "code",
   "execution_count": null,
   "metadata": {},
   "outputs": [],
   "source": [
    "exp1.test_gauss(noise=0.05)"
   ]
  },
  {
   "cell_type": "markdown",
   "metadata": {},
   "source": [
    "### Lipschitz constant\n",
    "\n",
    "Here we implement for the Gaussian signal the lipschitz constant of the neural network, depending on the input. s or if "
   ]
  },
  {
   "cell_type": "markdown",
   "metadata": {},
   "source": [
    "$x_{in}=x_{bias}=T_a^T y^\\delta$ "
   ]
  },
  {
   "cell_type": "code",
   "execution_count": null,
   "metadata": {},
   "outputs": [],
   "source": [
    "exp1.model.Lipschitz(opt1=\"semi\",opt2=\"entree11\")"
   ]
  },
  {
   "cell_type": "markdown",
   "metadata": {},
   "source": [
    "$x_{in}= 0$, and $x_{bias}= T_a^T y^\\delta$ "
   ]
  },
  {
   "cell_type": "code",
   "execution_count": null,
   "metadata": {},
   "outputs": [],
   "source": [
    "exp1.model.Lipschitz(opt1=\"semi\",opt2=\"entree01\")"
   ]
  }
 ],
 "metadata": {
  "kernelspec": {
   "display_name": "Python 3",
   "language": "python",
   "name": "python3"
  },
  "language_info": {
   "codemirror_mode": {
    "name": "ipython",
    "version": 3
   },
   "file_extension": ".py",
   "mimetype": "text/x-python",
   "name": "python",
   "nbconvert_exporter": "python",
   "pygments_lexer": "ipython3",
   "version": "3.9.4"
  }
 },
 "nbformat": 4,
 "nbformat_minor": 4
}
