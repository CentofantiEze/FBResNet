{
 "cells": [
  {
   "cell_type": "markdown",
   "metadata": {},
   "source": [
    "# FBRESNET - one example"
   ]
  },
  {
   "cell_type": "code",
   "execution_count": 1,
   "metadata": {},
   "outputs": [],
   "source": [
    "# importation\n",
    "import numpy as np\n",
    "from torch.autograd import Variable\n",
    "import torch\n",
    "import matplotlib.pyplot as plt\n",
    "%matplotlib inline\n",
    "# local\n",
    "from FBRN.myfunc import Physics\n",
    "from FBRN.myfunc import MyMatmul\n",
    "from FBRN.main import FBRestNet\n",
    "from FBRN.model import MyModel\n",
    "from FBRN.posttreat import Export_hyper"
   ]
  },
  {
   "cell_type": "markdown",
   "metadata": {},
   "source": [
    "### Initialisation\n",
    "The condition are as follows:\n",
    "$a=1$ ,\n",
    "$p=1$ ,\n",
    "the constraint is $0 <x_i <1$ ."
   ]
  },
  {
   "cell_type": "code",
   "execution_count": 2,
   "metadata": {},
   "outputs": [],
   "source": [
    "exp1 = FBRestNet(experimentation=Physics(2000,50,1,1), nb_blocks=20, noise = 0.05,\\\n",
    "                 folder = './', im_set=\"Set1\",batch_size=[100,1],\\\n",
    "                 lr=1e-3, nb_epochs=[20,1])"
   ]
  },
  {
   "cell_type": "markdown",
   "metadata": {},
   "source": [
    "### Dataset\n",
    "Here, the dataset is of size 300, which is split in 200 trainig datas and 100 validation datas."
   ]
  },
  {
   "cell_type": "code",
   "execution_count": 3,
   "metadata": {},
   "outputs": [],
   "source": [
    "train_set, val_set = exp1.CreateDataSet()"
   ]
  },
  {
   "cell_type": "markdown",
   "metadata": {},
   "source": [
    "### Trainings\n",
    "The training is done over 20 epochs, learning rate is $10^{-3}$.\n",
    "The Lipschitz constant is plot duroing training.\n",
    "Here the parameter can be saved after training in file 'Trainings', and uploaded later."
   ]
  },
  {
   "cell_type": "code",
   "execution_count": 4,
   "metadata": {},
   "outputs": [
    {
     "name": "stdout",
     "output_type": "stream",
     "text": [
      "epoch :  0  -----  validation :  0.004079490721888953\n",
      "           ----- initial error : 0.6814836525555813\n",
      "epoch :  1  -----  validation :  0.00393303720964909\n",
      "           ----- initial error : 0.6814836525555813\n",
      "epoch :  2  -----  validation :  0.003760159708855843\n",
      "           ----- initial error : 0.6814836525555813\n",
      "epoch :  3  -----  validation :  0.003567032769999721\n",
      "           ----- initial error : 0.6814836525555813\n",
      "epoch :  4  -----  validation :  0.0033451945831378302\n",
      "           ----- initial error : 0.6814836525555813\n",
      "epoch :  5  -----  validation :  0.0031205881933794553\n",
      "           ----- initial error : 0.6814836525555813\n",
      "epoch :  6  -----  validation :  0.0028819050851532006\n",
      "           ----- initial error : 0.6814836525555813\n",
      "epoch :  7  -----  validation :  0.00263533545005361\n",
      "           ----- initial error : 0.6814836525555813\n",
      "epoch :  8  -----  validation :  0.0023722270076783993\n",
      "           ----- initial error : 0.6814836525555813\n",
      "epoch :  9  -----  validation :  0.002105703583572794\n",
      "           ----- initial error : 0.6814836525555813\n",
      "epoch :  10  -----  validation :  0.0018013204089859782\n",
      "           ----- initial error : 0.6814836525555813\n",
      "epoch :  11  -----  validation :  0.0015207911329167528\n",
      "           ----- initial error : 0.6814836525555813\n",
      "epoch :  12  -----  validation :  0.0013268056950023906\n",
      "           ----- initial error : 0.6814836525555813\n",
      "epoch :  13  -----  validation :  0.00121838119097943\n",
      "           ----- initial error : 0.6814836525555813\n",
      "epoch :  14  -----  validation :  0.001175354456239747\n",
      "           ----- initial error : 0.6814836525555813\n",
      "epoch :  15  -----  validation :  0.0011651503798819965\n",
      "           ----- initial error : 0.6814836525555813\n",
      "epoch :  16  -----  validation :  0.0011607721716052656\n",
      "           ----- initial error : 0.6814836525555813\n",
      "epoch :  17  -----  validation :  0.0011584628258733023\n",
      "           ----- initial error : 0.6814836525555813\n",
      "epoch :  18  -----  validation :  0.001156119120423682\n",
      "           ----- initial error : 0.6814836525555813\n",
      "epoch :  19  -----  validation :  0.0011540494875093414\n",
      "           ----- initial error : 0.6814836525555813\n",
      "-----------------------------------------------------------------\n",
      "Training is done.\n",
      "-----------------------------------------------------------------\n"
     ]
    },
    {
     "data": {
      "image/png": "[encoded data removed]",
      "text/plain": [
       "<Figure size 432x288 with 2 Axes>"
      ]
     },
     "metadata": {
      "needs_background": "light"
     },
     "output_type": "display_data"
    },
    {
     "name": "stdout",
     "output_type": "stream",
     "text": [
      "Final Lipschitz constant =  0.004167773648197\n"
     ]
    },
    {
     "ename": "FileNotFoundError",
     "evalue": "[Errno 2] No such file or directory: './Redaction/data/lip2000_50_1_1.pt.txt'",
     "output_type": "error",
     "traceback": [
      "\u001b[0;31m---------------------------------------------------------------------------\u001b[0m",
      "\u001b[0;31mFileNotFoundError\u001b[0m                         Traceback (most recent call last)",
      "\u001b[0;32m<ipython-input-4-32631623d98d>\u001b[0m in \u001b[0;36m<module>\u001b[0;34m\u001b[0m\n\u001b[0;32m----> 1\u001b[0;31m \u001b[0mexp1\u001b[0m\u001b[0;34m.\u001b[0m\u001b[0mtrain\u001b[0m\u001b[0;34m(\u001b[0m\u001b[0mtrain_set\u001b[0m\u001b[0;34m,\u001b[0m\u001b[0mval_set\u001b[0m\u001b[0;34m,\u001b[0m\u001b[0msave_model\u001b[0m\u001b[0;34m=\u001b[0m\u001b[0;32mFalse\u001b[0m\u001b[0;34m)\u001b[0m\u001b[0;34m\u001b[0m\u001b[0;34m\u001b[0m\u001b[0m\n\u001b[0m",
      "\u001b[0;32m~/Documents/FBResNet/FBRN/main.py\u001b[0m in \u001b[0;36mtrain\u001b[0;34m(self, train_set, val_set, test_lipschitz, save_model)\u001b[0m\n\u001b[1;32m    345\u001b[0m         \u001b[0;31m#\u001b[0m\u001b[0;34m\u001b[0m\u001b[0;34m\u001b[0m\u001b[0;34m\u001b[0m\u001b[0m\n\u001b[1;32m    346\u001b[0m         \u001b[0mprint\u001b[0m\u001b[0;34m(\u001b[0m\u001b[0;34m\"Final Lipschitz constant = \"\u001b[0m\u001b[0;34m,\u001b[0m\u001b[0mlip_cste\u001b[0m\u001b[0;34m[\u001b[0m\u001b[0;34m-\u001b[0m\u001b[0;36m1\u001b[0m\u001b[0;34m]\u001b[0m\u001b[0;34m)\u001b[0m\u001b[0;34m\u001b[0m\u001b[0;34m\u001b[0m\u001b[0m\n\u001b[0;32m--> 347\u001b[0;31m         \u001b[0;31m# Export lip curve\u001b[0m\u001b[0;34m\u001b[0m\u001b[0;34m\u001b[0m\u001b[0;34m\u001b[0m\u001b[0m\n\u001b[0m\u001b[1;32m    348\u001b[0m         Export_Data(np.linspace(0,nb_val-1,nb_val),\\\n\u001b[1;32m    349\u001b[0m                     \u001b[0mlip_cste\u001b[0m\u001b[0;34m,\u001b[0m\u001b[0;34m\u001b[0m\u001b[0;34m\u001b[0m\u001b[0m\n",
      "\u001b[0;32m~/Documents/FBResNet/FBRN/posttreat.py\u001b[0m in \u001b[0;36mExport_Data\u001b[0;34m(xdata, ydata, folder, name)\u001b[0m\n\u001b[1;32m     37\u001b[0m     \"\"\"\n\u001b[1;32m     38\u001b[0m     \u001b[0mNpoint\u001b[0m \u001b[0;34m=\u001b[0m \u001b[0mnp\u001b[0m\u001b[0;34m.\u001b[0m\u001b[0msize\u001b[0m\u001b[0;34m(\u001b[0m\u001b[0mxdata\u001b[0m\u001b[0;34m)\u001b[0m\u001b[0;34m\u001b[0m\u001b[0;34m\u001b[0m\u001b[0m\n\u001b[0;32m---> 39\u001b[0;31m     \u001b[0;32mwith\u001b[0m \u001b[0mopen\u001b[0m\u001b[0;34m(\u001b[0m\u001b[0mfolder\u001b[0m\u001b[0;34m+\u001b[0m\u001b[0;34m'/'\u001b[0m\u001b[0;34m+\u001b[0m\u001b[0mname\u001b[0m\u001b[0;34m+\u001b[0m\u001b[0;34m'.txt'\u001b[0m\u001b[0;34m,\u001b[0m \u001b[0;34m'w'\u001b[0m\u001b[0;34m)\u001b[0m \u001b[0;32mas\u001b[0m \u001b[0mf\u001b[0m\u001b[0;34m:\u001b[0m\u001b[0;34m\u001b[0m\u001b[0;34m\u001b[0m\u001b[0m\n\u001b[0m\u001b[1;32m     40\u001b[0m         \u001b[0mf\u001b[0m\u001b[0;34m.\u001b[0m\u001b[0mwritelines\u001b[0m\u001b[0;34m(\u001b[0m\u001b[0;34m'xdata ydata \\n'\u001b[0m\u001b[0;34m)\u001b[0m\u001b[0;34m\u001b[0m\u001b[0;34m\u001b[0m\u001b[0m\n\u001b[1;32m     41\u001b[0m         \u001b[0;32mfor\u001b[0m \u001b[0mi\u001b[0m \u001b[0;32min\u001b[0m \u001b[0mrange\u001b[0m\u001b[0;34m(\u001b[0m\u001b[0mNpoint\u001b[0m\u001b[0;34m)\u001b[0m\u001b[0;34m:\u001b[0m\u001b[0;34m\u001b[0m\u001b[0;34m\u001b[0m\u001b[0m\n",
      "\u001b[0;31mFileNotFoundError\u001b[0m: [Errno 2] No such file or directory: './Redaction/data/lip2000_50_1_1.pt.txt'"
     ]
    }
   ],
   "source": [
    "exp1.train(train_set,val_set,save_model=False)"
   ]
  },
  {
   "cell_type": "markdown",
   "metadata": {},
   "source": [
    "### Testing\n",
    "We computre the averaged error over the testing set, and compute one example, on the left the signal are projected on the eigenbasis of operator $T_a^TT_a$, on the right on the finite element basis."
   ]
  },
  {
   "cell_type": "code",
   "execution_count": null,
   "metadata": {},
   "outputs": [],
   "source": [
    "average_error = exp1.test(val_set)"
   ]
  },
  {
   "cell_type": "markdown",
   "metadata": {},
   "source": [
    "### Test on a Gaussian function"
   ]
  },
  {
   "cell_type": "code",
   "execution_count": null,
   "metadata": {},
   "outputs": [],
   "source": [
    "exp1.test_gauss(noise=0.05)"
   ]
  },
  {
   "cell_type": "markdown",
   "metadata": {},
   "source": [
    "### Lipschitz constant\n",
    "\n",
    "Here we implement for the Gaussian signal the lipschitz constant of the neural network, depending on the input. s or if "
   ]
  },
  {
   "cell_type": "markdown",
   "metadata": {},
   "source": [
    "$x_{in}=x_{bias}=T_a^T y^\\delta$ "
   ]
  },
  {
   "cell_type": "code",
   "execution_count": null,
   "metadata": {},
   "outputs": [],
   "source": [
    "exp1.model.Lipschitz(opt1=\"semi\",opt2=\"entree11\")"
   ]
  },
  {
   "cell_type": "markdown",
   "metadata": {},
   "source": [
    "$x_{in}= 0$, and $x_{bias}= T_a^T y^\\delta$ "
   ]
  },
  {
   "cell_type": "code",
   "execution_count": null,
   "metadata": {},
   "outputs": [],
   "source": [
    "exp1.model.Lipschitz(opt1=\"semi\",opt2=\"entree01\")"
   ]
  }
 ],
 "metadata": {
  "kernelspec": {
   "display_name": "Python 3",
   "language": "python",
   "name": "python3"
  },
  "language_info": {
   "codemirror_mode": {
    "name": "ipython",
    "version": 3
   },
   "file_extension": ".py",
   "mimetype": "text/x-python",
   "name": "python",
   "nbconvert_exporter": "python",
   "pygments_lexer": "ipython3",
   "version": "3.9.4"
  }
 },
 "nbformat": 4,
 "nbformat_minor": 4
}
